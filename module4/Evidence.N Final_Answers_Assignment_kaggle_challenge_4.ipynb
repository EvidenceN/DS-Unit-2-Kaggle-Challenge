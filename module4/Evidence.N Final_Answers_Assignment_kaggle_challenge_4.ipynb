{
  "nbformat": 4,
  "nbformat_minor": 0,
  "metadata": {
    "kernelspec": {
      "display_name": "Python 3",
      "language": "python",
      "name": "python3"
    },
    "language_info": {
      "codemirror_mode": {
        "name": "ipython",
        "version": 3
      },
      "file_extension": ".py",
      "mimetype": "text/x-python",
      "name": "python",
      "nbconvert_exporter": "python",
      "pygments_lexer": "ipython3",
      "version": "3.7.3"
    },
    "colab": {
      "name": "Final Answers Assignment_kaggle_challenge_4.ipynb",
      "provenance": [],
      "collapsed_sections": [],
      "include_colab_link": true
    }
  },
  "cells": [
    {
      "cell_type": "markdown",
      "metadata": {
        "id": "view-in-github",
        "colab_type": "text"
      },
      "source": [
        "<a href=\"https://colab.research.google.com/github/EvidenceN/DS-Unit-2-Kaggle-Challenge/blob/master/module4/Evidence.N%20Final_Answers_Assignment_kaggle_challenge_4.ipynb\" target=\"_parent\"><img src=\"https://colab.research.google.com/assets/colab-badge.svg\" alt=\"Open In Colab\"/></a>"
      ]
    },
    {
      "cell_type": "markdown",
      "metadata": {
        "id": "kOG5FOErm7x8",
        "colab_type": "text"
      },
      "source": [
        "# Classification Metrics"
      ]
    },
    {
      "cell_type": "markdown",
      "metadata": {
        "id": "ND_ilsQZmpMp",
        "colab_type": "text"
      },
      "source": [
        "\n",
        "Assignment\n",
        "\n",
        "If you haven't yet, [review requirements for your portfolio project](https://lambdaschool.github.io/ds/unit2), then submit your dataset.\n",
        "\n",
        " Plot a confusion matrix for your Tanzania Waterpumps model.\n",
        " \n",
        "Continue to participate in our Kaggle challenge. Every student should have made at least one submission that scores at least 70% accuracy (well above the majority class baseline).\n",
        "\n",
        " Submit your final predictions to our Kaggle competition. Optionally, go to **My Submissions**, and _\"you may select up to 1 submission to be used to count towards your final leaderboard score.\"_\n",
        "Commit your notebook to your fork of the GitHub repo.\n",
        "\n",
        "[ ] Read [Maximizing Scarce Maintenance Resources with Data: Applying predictive modeling, precision at k, and clustering to optimize impact](https://towardsdatascience.com/maximizing-scarce-maintenance-resources-with-data-8f3491133050), by Lambda DS3 student Michael Brady. His blog post extends the Tanzania Waterpumps scenario, far beyond what's in the lecture notebook."
      ]
    },
    {
      "cell_type": "code",
      "metadata": {
        "id": "nf5oCQUEmpMr",
        "colab_type": "code",
        "colab": {
          "base_uri": "https://localhost:8080/",
          "height": 314
        },
        "outputId": "2a9f4e3e-61ec-4024-9c29-d1e1722c8691"
      },
      "source": [
        "# Plot confusion matrix for tanzania waterpump model. \n",
        "\n",
        "# get the data from yesterday and the best model parameters from yersterday and use it build a confusion matrix\n",
        "\n",
        "!pip install category_encoders==2.*\n",
        "\n",
        "import pandas as pd\n",
        "\n",
        "# Defining features and labels\n",
        "train_features = 'https://raw.githubusercontent.com/EvidenceN/DS-Unit-2-Kaggle-Challenge/master/data/waterpumps/train_features.csv'\n",
        "\n",
        "train_labels = 'https://raw.githubusercontent.com/EvidenceN/DS-Unit-2-Kaggle-Challenge/master/data/waterpumps/train_labels.csv'\n",
        "\n",
        "# Merge train_features.csv & train_labels.csv\n",
        "train = pd.merge(pd.read_csv(train_features), \n",
        "                 pd.read_csv(train_labels))\n",
        "\n",
        "# Read test_features.csv & sample_submission.csv\n",
        "test = pd.read_csv(\"https://raw.githubusercontent.com/EvidenceN/DS-Unit-2-Kaggle-Challenge/master/data/waterpumps/test_features.csv\")"
      ],
      "execution_count": 1,
      "outputs": [
        {
          "output_type": "stream",
          "text": [
            "Collecting category_encoders==2.*\n",
            "\u001b[?25l  Downloading https://files.pythonhosted.org/packages/a0/52/c54191ad3782de633ea3d6ee3bb2837bda0cf3bc97644bb6375cf14150a0/category_encoders-2.1.0-py2.py3-none-any.whl (100kB)\n",
            "\r\u001b[K     |███▎                            | 10kB 16.9MB/s eta 0:00:01\r\u001b[K     |██████▌                         | 20kB 2.2MB/s eta 0:00:01\r\u001b[K     |█████████▉                      | 30kB 3.1MB/s eta 0:00:01\r\u001b[K     |█████████████                   | 40kB 2.1MB/s eta 0:00:01\r\u001b[K     |████████████████▍               | 51kB 2.6MB/s eta 0:00:01\r\u001b[K     |███████████████████▋            | 61kB 3.1MB/s eta 0:00:01\r\u001b[K     |██████████████████████▉         | 71kB 3.5MB/s eta 0:00:01\r\u001b[K     |██████████████████████████▏     | 81kB 4.0MB/s eta 0:00:01\r\u001b[K     |█████████████████████████████▍  | 92kB 4.5MB/s eta 0:00:01\r\u001b[K     |████████████████████████████████| 102kB 2.5MB/s \n",
            "\u001b[?25hRequirement already satisfied: scipy>=0.19.0 in /usr/local/lib/python3.6/dist-packages (from category_encoders==2.*) (1.3.1)\n",
            "Requirement already satisfied: patsy>=0.4.1 in /usr/local/lib/python3.6/dist-packages (from category_encoders==2.*) (0.5.1)\n",
            "Requirement already satisfied: numpy>=1.11.3 in /usr/local/lib/python3.6/dist-packages (from category_encoders==2.*) (1.17.3)\n",
            "Requirement already satisfied: scikit-learn>=0.20.0 in /usr/local/lib/python3.6/dist-packages (from category_encoders==2.*) (0.21.3)\n",
            "Requirement already satisfied: pandas>=0.21.1 in /usr/local/lib/python3.6/dist-packages (from category_encoders==2.*) (0.25.3)\n",
            "Requirement already satisfied: statsmodels>=0.6.1 in /usr/local/lib/python3.6/dist-packages (from category_encoders==2.*) (0.10.1)\n",
            "Requirement already satisfied: six in /usr/local/lib/python3.6/dist-packages (from patsy>=0.4.1->category_encoders==2.*) (1.12.0)\n",
            "Requirement already satisfied: joblib>=0.11 in /usr/local/lib/python3.6/dist-packages (from scikit-learn>=0.20.0->category_encoders==2.*) (0.14.0)\n",
            "Requirement already satisfied: pytz>=2017.2 in /usr/local/lib/python3.6/dist-packages (from pandas>=0.21.1->category_encoders==2.*) (2018.9)\n",
            "Requirement already satisfied: python-dateutil>=2.6.1 in /usr/local/lib/python3.6/dist-packages (from pandas>=0.21.1->category_encoders==2.*) (2.6.1)\n",
            "Installing collected packages: category-encoders\n",
            "Successfully installed category-encoders-2.1.0\n"
          ],
          "name": "stdout"
        }
      ]
    },
    {
      "cell_type": "code",
      "metadata": {
        "id": "BYUYJd6UmpMz",
        "colab_type": "code",
        "colab": {}
      },
      "source": [
        "\n",
        "from sklearn.model_selection import train_test_split\n",
        "\n",
        "train, val = train_test_split(train, test_size = len(test), stratify=train['status_group'], random_state = 42)"
      ],
      "execution_count": 0,
      "outputs": []
    },
    {
      "cell_type": "code",
      "metadata": {
        "id": "tMIWP1KgmpM5",
        "colab_type": "code",
        "colab": {}
      },
      "source": [
        "\n",
        "val.shape\n",
        "\n",
        "# %%\n",
        "from sklearn.pipeline import make_pipeline\n",
        "import category_encoders as ce\n",
        "from sklearn.ensemble import RandomForestClassifier\n",
        "from sklearn.impute import SimpleImputer\n",
        "import matplotlib.pyplot as plt"
      ],
      "execution_count": 0,
      "outputs": []
    },
    {
      "cell_type": "code",
      "metadata": {
        "id": "tfdZ4DxEn1_I",
        "colab_type": "code",
        "colab": {
          "base_uri": "https://localhost:8080/",
          "height": 109
        },
        "outputId": "f4e80437-ca08-4889-a895-922f432025ea"
      },
      "source": [
        "# creating a function to clean all data the same way. \n",
        "import numpy as np\n",
        "\n",
        "def cleaning(x):\n",
        "  \"\"\"Clean train, validate, and test data sets in the same way\n",
        "  \n",
        "    DataFrame.copy(self, deep=True)[source]\n",
        "\n",
        "    Make a copy of this object’s indices and data.\n",
        "\n",
        "    When deep=True (default), a new object will be created with a copy of the \n",
        "    calling object’s data and indices. Modifications to the data or indices of \n",
        "    the copy will not be reflected in the original object (see notes below).\n",
        "\n",
        "    When deep=False, a new object will be created without copying the calling \n",
        "    object’s data or index (only references to the data and index are copied). \n",
        "    Any changes to the data of the original will be reflected in the shallow \n",
        "    copy (and vice versa).\"\"\"\n",
        "\n",
        "  x = x.copy()\n",
        "\n",
        "  cols_with_zeros = ['longitude', 'latitude', 'construction_year', \n",
        "                       'gps_height', 'population']\n",
        "\n",
        "  for col in cols_with_zeros:\n",
        "      x[col] = x[col].replace(0, np.nan)\n",
        "      x[col+'_MISSING'] = x[col].isnull()\n",
        "\n",
        "  duplicates = ['quantity_group', 'payment_type']\n",
        "  x = x.drop(columns=duplicates)\n",
        "\n",
        "  unusable_variance = ['recorded_by', 'id']\n",
        "  x = x.drop(columns=unusable_variance)\n",
        "    \n",
        "  # Convert date_recorded to datetime\n",
        "  x['date_recorded'] = pd.to_datetime(x['date_recorded'], infer_datetime_format=True)\n",
        "    \n",
        "  # Extract components from date_recorded, then drop the original column\n",
        "  x['year_recorded'] = x['date_recorded'].dt.year\n",
        "  x['month_recorded'] = x['date_recorded'].dt.month\n",
        "  x['day_recorded'] = x['date_recorded'].dt.day\n",
        "  x = x.drop(columns='date_recorded')\n",
        "    \n",
        "  # Engineer feature: how many years from construction_year to date_recorded\n",
        "  x['years'] = x['year_recorded'] - x['construction_year']\n",
        "  x['years_MISSING'] = x['years'].isnull()\n",
        "    \n",
        "  # return the wrangled dataframe\n",
        "  return x\n",
        "\n",
        "#\n",
        "train = cleaning(train)\n",
        "test = cleaning(test)\n",
        "val = cleaning(val)\n",
        "#\n",
        "# defining mean baseline. \n",
        "mean_baseline = train['status_group'].value_counts(normalize=True)\n",
        "\n",
        "print(f'mean baseline\\n{mean_baseline}')\n",
        "\n",
        "# defining the target and features\n",
        "target = 'status_group'\n",
        "features = train.columns.drop(target)\n",
        "\n",
        "x_train = train[features]\n",
        "y_train = train[target]\n",
        "x_val = val[features]\n",
        "y_val = val[target]\n",
        "x_test = test[features]"
      ],
      "execution_count": 4,
      "outputs": [
        {
          "output_type": "stream",
          "text": [
            "mean baseline\n",
            "functional                 0.543071\n",
            "non functional             0.384241\n",
            "functional needs repair    0.072688\n",
            "Name: status_group, dtype: float64\n"
          ],
          "name": "stdout"
        }
      ]
    },
    {
      "cell_type": "code",
      "metadata": {
        "id": "kYcMGBxxoDpk",
        "colab_type": "code",
        "colab": {}
      },
      "source": [
        "pipeline = make_pipeline(\n",
        "    ce.OrdinalEncoder(),\n",
        "    SimpleImputer(strategy='mean'),\n",
        "    RandomForestClassifier(random_state=42, max_features=0.26893254140057554, max_depth=50,\n",
        "\tn_estimators=394, min_samples_split=7, n_jobs = -2)\n",
        ")\n",
        "\n"
      ],
      "execution_count": 0,
      "outputs": []
    },
    {
      "cell_type": "code",
      "metadata": {
        "id": "4nrdEw9BocdI",
        "colab_type": "code",
        "colab": {
          "base_uri": "https://localhost:8080/",
          "height": 35
        },
        "outputId": "0e52231b-8fff-45ff-8158-1e3ad490ff41"
      },
      "source": [
        "import seaborn as sns\n",
        "from sklearn.metrics import accuracy_score\n",
        "\n",
        "# fit on train data and validate on validation data\n",
        "\n",
        "pipeline.fit(x_train, y_train)\n",
        "y_pred_val = pipeline.predict(x_val)\n",
        "print(f'Validation accuracy {accuracy_score(y_val, y_pred_val)}')\n"
      ],
      "execution_count": 8,
      "outputs": [
        {
          "output_type": "stream",
          "text": [
            "Validation accuracy 0.8139016576124809\n"
          ],
          "name": "stdout"
        }
      ]
    },
    {
      "cell_type": "code",
      "metadata": {
        "id": "cU1HMUZmoTns",
        "colab_type": "code",
        "colab": {
          "base_uri": "https://localhost:8080/",
          "height": 612
        },
        "outputId": "564d3944-5e63-48dd-b0d5-dde0c6bb2ea9"
      },
      "source": [
        "\n",
        "# plotting the confusion matrix of the data\n",
        "\n",
        "from sklearn.metrics import confusion_matrix\n",
        "\n",
        "confusion_matrix(y_val, y_pred_val)\n",
        "\n",
        "#%%\n",
        "# getting the labels from the confusion matrix\n",
        "\n",
        "from sklearn.utils.multiclass import unique_labels\n",
        "\n",
        "unique_labels(y_val)\n",
        "\n",
        "#%%\n",
        "\n",
        "# Create a function that will graph the confusion matrix and put labels next to it. \n",
        "\n",
        "def plot_confusion_matrix(y_true, y_pred):\n",
        "\tlabels = unique_labels(y_true)\n",
        "\tcolumns = [f'Predicted {label}' for label in labels]\n",
        "\tindex = [f'Actual {label}' for label in labels]\n",
        "\ttable = pd.DataFrame(confusion_matrix(y_true, y_pred), columns=columns,\n",
        "\tindex=index)\n",
        "\treturn sns.heatmap(table, annot=True, fmt='d', cmap='viridis')\n",
        "\n",
        "#%%%\n",
        "plot_confusion_matrix(y_val, y_pred_val)\n",
        "\n",
        "#%%\n",
        "\n",
        "from sklearn.metrics import classification_report\n",
        "\n",
        "report = classification_report(y_val, y_pred_val)\n",
        "\n",
        "print(report)\n"
      ],
      "execution_count": 9,
      "outputs": [
        {
          "output_type": "stream",
          "text": [
            "                         precision    recall  f1-score   support\n",
            "\n",
            "             functional       0.80      0.91      0.85      7798\n",
            "functional needs repair       0.64      0.29      0.40      1043\n",
            "         non functional       0.85      0.78      0.81      5517\n",
            "\n",
            "               accuracy                           0.81     14358\n",
            "              macro avg       0.76      0.66      0.69     14358\n",
            "           weighted avg       0.81      0.81      0.80     14358\n",
            "\n"
          ],
          "name": "stdout"
        },
        {
          "output_type": "display_data",
          "data": {
            "image/png": "[encoded data removed]",
            "text/plain": [
              "<Figure size 432x288 with 2 Axes>"
            ]
          },
          "metadata": {
            "tags": []
          }
        }
      ]
    }
  ]
}