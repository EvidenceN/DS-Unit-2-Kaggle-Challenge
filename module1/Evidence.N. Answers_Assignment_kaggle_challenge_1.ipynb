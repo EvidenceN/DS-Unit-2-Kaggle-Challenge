{
  "nbformat": 4,
  "nbformat_minor": 0,
  "metadata": {
    "colab": {
      "name": "Answers Assignment_kaggle_challenge_1.ipynb",
      "provenance": [],
      "collapsed_sections": [],
      "include_colab_link": true
    },
    "kernelspec": {
      "display_name": "Python 3",
      "language": "python",
      "name": "python3"
    },
    "language_info": {
      "codemirror_mode": {
        "name": "ipython",
        "version": 3
      },
      "file_extension": ".py",
      "mimetype": "text/x-python",
      "name": "python",
      "nbconvert_exporter": "python",
      "pygments_lexer": "ipython3",
      "version": "3.7.3"
    }
  },
  "cells": [
    {
      "cell_type": "markdown",
      "metadata": {
        "id": "view-in-github",
        "colab_type": "text"
      },
      "source": [
        "<a href=\"https://colab.research.google.com/github/EvidenceN/DS-Unit-2-Kaggle-Challenge/blob/master/module1/Evidence.N.%20Answers_Assignment_kaggle_challenge_1.ipynb\" target=\"_parent\"><img src=\"https://colab.research.google.com/assets/colab-badge.svg\" alt=\"Open In Colab\"/></a>"
      ]
    },
    {
      "cell_type": "markdown",
      "metadata": {
        "id": "OkM_rCqyPnGj",
        "colab_type": "text"
      },
      "source": [
        "Lambda School Data Science\n",
        "\n",
        "*Unit 2, Sprint 2, Module 1*\n",
        "\n",
        "---"
      ]
    },
    {
      "cell_type": "markdown",
      "metadata": {
        "colab_type": "text",
        "id": "7IXUfiQ2UKj6"
      },
      "source": [
        "# Decision Trees\n",
        "\n",
        "## Assignment\n",
        "- [ ] [Sign up for a Kaggle account](https://www.kaggle.com/), if you don’t already have one. Go to our Kaggle InClass competition website. You will be given the URL in Slack. Go to the Rules page. Accept the rules of the competition.\n",
        "- [ ] Do train/validate/test split with the Tanzania Waterpumps data.\n",
        "- [ ] Begin with baselines for classification.\n",
        "- [ ] Select features. Use a scikit-learn pipeline to encode categoricals, impute missing values, and fit a decision tree classifier.\n",
        "- [ ] Get your validation accuracy score.\n",
        "- [ ] Get and plot your feature importances.\n",
        "- [ ] Submit your predictions to our Kaggle competition. (Go to our Kaggle InClass competition webpage. Use the blue **Submit Predictions** button to upload your CSV file. Or you can use the Kaggle API to submit your predictions.)\n",
        "- [ ] Commit your notebook to your fork of the GitHub repo.\n",
        "\n",
        "\n",
        "## Stretch Goals\n",
        "\n",
        "### Reading\n",
        "\n",
        "- A Visual Introduction to Machine Learning\n",
        "  - [Part 1: A Decision Tree](http://www.r2d3.us/visual-intro-to-machine-learning-part-1/)\n",
        "  - [Part 2: Bias and Variance](http://www.r2d3.us/visual-intro-to-machine-learning-part-2/)\n",
        "- [Decision Trees: Advantages & Disadvantages](https://christophm.github.io/interpretable-ml-book/tree.html#advantages-2)\n",
        "- [How a Russian mathematician constructed a decision tree — by hand — to solve a medical problem](http://fastml.com/how-a-russian-mathematician-constructed-a-decision-tree-by-hand-to-solve-a-medical-problem/)\n",
        "- [How decision trees work](https://brohrer.github.io/how_decision_trees_work.html)\n",
        "- [Let’s Write a Decision Tree Classifier from Scratch](https://www.youtube.com/watch?v=LDRbO9a6XPU) — _Don’t worry about understanding the code, just get introduced to the concepts. This 10 minute video has excellent diagrams and explanations._\n",
        "- [Random Forests for Complete Beginners: The definitive guide to Random Forests and Decision Trees](https://victorzhou.com/blog/intro-to-random-forests/)\n",
        "\n",
        "\n",
        "### Doing\n",
        "- [ ] Add your own stretch goal(s) !\n",
        "- [ ] Define a function to wrangle train, validate, and test sets in the same way. Clean outliers and engineer features. (For example, [what columns have zeros and shouldn't?](https://github.com/Quartz/bad-data-guide#zeros-replace-missing-values) What columns are duplicates, or nearly duplicates? Can you extract the year from date_recorded? Can you engineer new features, such as the number of years from waterpump construction to waterpump inspection?)\n",
        "- [ ] Try other [scikit-learn imputers](https://scikit-learn.org/stable/modules/impute.html).\n",
        "- [ ] Make exploratory visualizations and share on Slack.\n",
        "\n",
        "\n",
        "#### Exploratory visualizations\n",
        "\n",
        "Visualize the relationships between feature(s) and target. I recommend you do this with your training set, after splitting your data. \n",
        "\n",
        "For this problem, you may want to create a new column to represent the target as a number, 0 or 1. For example:\n",
        "\n",
        "```python\n",
        "train['functional'] = (train['status_group']=='functional').astype(int)\n",
        "```\n",
        "\n",
        "\n",
        "\n",
        "You can try [Seaborn \"Categorical estimate\" plots](https://seaborn.pydata.org/tutorial/categorical.html) for features with reasonably few unique values. (With too many unique values, the plot is unreadable.)\n",
        "\n",
        "- Categorical features. (If there are too many unique values, you can replace less frequent values with \"OTHER.\")\n",
        "- Numeric features. (If there are too many unique values, you can [bin with pandas cut / qcut functions](https://pandas.pydata.org/pandas-docs/stable/getting_started/basics.html?highlight=qcut#discretization-and-quantiling).)\n",
        "\n",
        "You can try [Seaborn linear model plots](https://seaborn.pydata.org/tutorial/regression.html) with numeric features. For this classification problem, you may want to use the parameter `logistic=True`, but it can be slow.\n",
        "\n",
        "You do _not_ need to use Seaborn, but it's nice because it includes confidence intervals to visualize uncertainty.\n",
        "\n",
        "#### High-cardinality categoricals\n",
        "\n",
        "This code from a previous assignment demonstrates how to replace less frequent values with 'OTHER'\n",
        "\n",
        "```python\n",
        "# Reduce cardinality for NEIGHBORHOOD feature ...\n",
        "\n",
        "# Get a list of the top 10 neighborhoods\n",
        "top10 = train['NEIGHBORHOOD'].value_counts()[:10].index\n",
        "\n",
        "# At locations where the neighborhood is NOT in the top 10,\n",
        "# replace the neighborhood with 'OTHER'\n",
        "train.loc[~train['NEIGHBORHOOD'].isin(top10), 'NEIGHBORHOOD'] = 'OTHER'\n",
        "test.loc[~test['NEIGHBORHOOD'].isin(top10), 'NEIGHBORHOOD'] = 'OTHER'\n",
        "```\n"
      ]
    },
    {
      "cell_type": "code",
      "metadata": {
        "colab_type": "code",
        "id": "o9eSnDYhUGD7",
        "colab": {
          "base_uri": "https://localhost:8080/",
          "height": 217
        },
        "outputId": "3b195cdc-3e0d-46fd-acd0-847eab530deb"
      },
      "source": [
        "import sys\n",
        "\n",
        "# If you're on Colab:\n",
        "if 'google.colab' in sys.modules:\n",
        "    DATA_PATH = 'https://raw.githubusercontent.com/LambdaSchool/DS-Unit-2-Kaggle-Challenge/master/data/'\n",
        "    !pip install category_encoders==2.*\n",
        "\n",
        "# If you're working locally:\n",
        "else:\n",
        "    DATA_PATH = '../data/'"
      ],
      "execution_count": 131,
      "outputs": [
        {
          "output_type": "stream",
          "text": [
            "Requirement already satisfied: category_encoders==2.* in /usr/local/lib/python3.6/dist-packages (2.1.0)\n",
            "Requirement already satisfied: patsy>=0.4.1 in /usr/local/lib/python3.6/dist-packages (from category_encoders==2.*) (0.5.1)\n",
            "Requirement already satisfied: scikit-learn>=0.20.0 in /usr/local/lib/python3.6/dist-packages (from category_encoders==2.*) (0.21.3)\n",
            "Requirement already satisfied: numpy>=1.11.3 in /usr/local/lib/python3.6/dist-packages (from category_encoders==2.*) (1.17.3)\n",
            "Requirement already satisfied: scipy>=0.19.0 in /usr/local/lib/python3.6/dist-packages (from category_encoders==2.*) (1.3.1)\n",
            "Requirement already satisfied: statsmodels>=0.6.1 in /usr/local/lib/python3.6/dist-packages (from category_encoders==2.*) (0.10.1)\n",
            "Requirement already satisfied: pandas>=0.21.1 in /usr/local/lib/python3.6/dist-packages (from category_encoders==2.*) (0.25.2)\n",
            "Requirement already satisfied: six in /usr/local/lib/python3.6/dist-packages (from patsy>=0.4.1->category_encoders==2.*) (1.12.0)\n",
            "Requirement already satisfied: joblib>=0.11 in /usr/local/lib/python3.6/dist-packages (from scikit-learn>=0.20.0->category_encoders==2.*) (0.14.0)\n",
            "Requirement already satisfied: pytz>=2017.2 in /usr/local/lib/python3.6/dist-packages (from pandas>=0.21.1->category_encoders==2.*) (2018.9)\n",
            "Requirement already satisfied: python-dateutil>=2.6.1 in /usr/local/lib/python3.6/dist-packages (from pandas>=0.21.1->category_encoders==2.*) (2.6.1)\n"
          ],
          "name": "stdout"
        }
      ]
    },
    {
      "cell_type": "code",
      "metadata": {
        "colab_type": "code",
        "id": "QJBD4ruICm1m",
        "outputId": "db10fd47-38dd-478b-cd01-69785a1855f0",
        "colab": {
          "base_uri": "https://localhost:8080/",
          "height": 35
        }
      },
      "source": [
        "import pandas as pd\n",
        "from sklearn.model_selection import train_test_split\n",
        "\n",
        "train = pd.merge(pd.read_csv(DATA_PATH+'waterpumps/train_features.csv'), \n",
        "                 pd.read_csv(DATA_PATH+'waterpumps/train_labels.csv'))\n",
        "test = pd.read_csv(DATA_PATH+'waterpumps/test_features.csv')\n",
        "sample_submission = pd.read_csv(DATA_PATH+'waterpumps/sample_submission.csv')\n",
        "\n",
        "train.shape, test.shape"
      ],
      "execution_count": 132,
      "outputs": [
        {
          "output_type": "execute_result",
          "data": {
            "text/plain": [
              "((59400, 41), (14358, 40))"
            ]
          },
          "metadata": {
            "tags": []
          },
          "execution_count": 132
        }
      ]
    },
    {
      "cell_type": "code",
      "metadata": {
        "colab_type": "code",
        "id": "2Amxyx3xphbb",
        "colab": {
          "base_uri": "https://localhost:8080/",
          "height": 400
        },
        "outputId": "c920962b-d4df-415d-8fde-2529c93b40c2"
      },
      "source": [
        "# splitting train into train, validation data sets. \n",
        "\n",
        "train, val = train_test_split(train, test_size = 0.8, train_size = 0.2, \n",
        "                              random_state = 42, stratify=train['status_group'])\n",
        "\n",
        "train.head()"
      ],
      "execution_count": 133,
      "outputs": [
        {
          "output_type": "execute_result",
          "data": {
            "text/html": [
              "<div>\n",
              "<style scoped>\n",
              "    .dataframe tbody tr th:only-of-type {\n",
              "        vertical-align: middle;\n",
              "    }\n",
              "\n",
              "    .dataframe tbody tr th {\n",
              "        vertical-align: top;\n",
              "    }\n",
              "\n",
              "    .dataframe thead th {\n",
              "        text-align: right;\n",
              "    }\n",
              "</style>\n",
              "<table border=\"1\" class=\"dataframe\">\n",
              "  <thead>\n",
              "    <tr style=\"text-align: right;\">\n",
              "      <th></th>\n",
              "      <th>id</th>\n",
              "      <th>amount_tsh</th>\n",
              "      <th>date_recorded</th>\n",
              "      <th>funder</th>\n",
              "      <th>gps_height</th>\n",
              "      <th>installer</th>\n",
              "      <th>longitude</th>\n",
              "      <th>latitude</th>\n",
              "      <th>wpt_name</th>\n",
              "      <th>num_private</th>\n",
              "      <th>basin</th>\n",
              "      <th>subvillage</th>\n",
              "      <th>region</th>\n",
              "      <th>region_code</th>\n",
              "      <th>district_code</th>\n",
              "      <th>lga</th>\n",
              "      <th>ward</th>\n",
              "      <th>population</th>\n",
              "      <th>public_meeting</th>\n",
              "      <th>recorded_by</th>\n",
              "      <th>scheme_management</th>\n",
              "      <th>scheme_name</th>\n",
              "      <th>permit</th>\n",
              "      <th>construction_year</th>\n",
              "      <th>extraction_type</th>\n",
              "      <th>extraction_type_group</th>\n",
              "      <th>extraction_type_class</th>\n",
              "      <th>management</th>\n",
              "      <th>management_group</th>\n",
              "      <th>payment</th>\n",
              "      <th>payment_type</th>\n",
              "      <th>water_quality</th>\n",
              "      <th>quality_group</th>\n",
              "      <th>quantity</th>\n",
              "      <th>quantity_group</th>\n",
              "      <th>source</th>\n",
              "      <th>source_type</th>\n",
              "      <th>source_class</th>\n",
              "      <th>waterpoint_type</th>\n",
              "      <th>waterpoint_type_group</th>\n",
              "      <th>status_group</th>\n",
              "    </tr>\n",
              "  </thead>\n",
              "  <tbody>\n",
              "    <tr>\n",
              "      <th>36369</th>\n",
              "      <td>12516</td>\n",
              "      <td>0.0</td>\n",
              "      <td>2011-02-23</td>\n",
              "      <td>Legeza Legeza</td>\n",
              "      <td>70</td>\n",
              "      <td>Private</td>\n",
              "      <td>38.714599</td>\n",
              "      <td>-6.919704</td>\n",
              "      <td>Legeza</td>\n",
              "      <td>0</td>\n",
              "      <td>Wami / Ruvu</td>\n",
              "      <td>Mzenga B</td>\n",
              "      <td>Pwani</td>\n",
              "      <td>6</td>\n",
              "      <td>3</td>\n",
              "      <td>Kisarawe</td>\n",
              "      <td>Vihingo</td>\n",
              "      <td>500</td>\n",
              "      <td>True</td>\n",
              "      <td>GeoData Consultants Ltd</td>\n",
              "      <td>Private operator</td>\n",
              "      <td>NaN</td>\n",
              "      <td>True</td>\n",
              "      <td>2004</td>\n",
              "      <td>india mark iii</td>\n",
              "      <td>india mark iii</td>\n",
              "      <td>handpump</td>\n",
              "      <td>private operator</td>\n",
              "      <td>commercial</td>\n",
              "      <td>never pay</td>\n",
              "      <td>never pay</td>\n",
              "      <td>salty</td>\n",
              "      <td>salty</td>\n",
              "      <td>enough</td>\n",
              "      <td>enough</td>\n",
              "      <td>machine dbh</td>\n",
              "      <td>borehole</td>\n",
              "      <td>groundwater</td>\n",
              "      <td>hand pump</td>\n",
              "      <td>hand pump</td>\n",
              "      <td>functional</td>\n",
              "    </tr>\n",
              "    <tr>\n",
              "      <th>12756</th>\n",
              "      <td>59778</td>\n",
              "      <td>0.0</td>\n",
              "      <td>2011-07-20</td>\n",
              "      <td>Hifab</td>\n",
              "      <td>0</td>\n",
              "      <td>Hesawa</td>\n",
              "      <td>33.390971</td>\n",
              "      <td>-3.044316</td>\n",
              "      <td>Majilala</td>\n",
              "      <td>0</td>\n",
              "      <td>Lake Victoria</td>\n",
              "      <td>Mwajilala</td>\n",
              "      <td>Mwanza</td>\n",
              "      <td>19</td>\n",
              "      <td>4</td>\n",
              "      <td>Kwimba</td>\n",
              "      <td>Lyoma</td>\n",
              "      <td>0</td>\n",
              "      <td>NaN</td>\n",
              "      <td>GeoData Consultants Ltd</td>\n",
              "      <td>VWC</td>\n",
              "      <td>NaN</td>\n",
              "      <td>True</td>\n",
              "      <td>0</td>\n",
              "      <td>swn 80</td>\n",
              "      <td>swn 80</td>\n",
              "      <td>handpump</td>\n",
              "      <td>vwc</td>\n",
              "      <td>user-group</td>\n",
              "      <td>never pay</td>\n",
              "      <td>never pay</td>\n",
              "      <td>soft</td>\n",
              "      <td>good</td>\n",
              "      <td>enough</td>\n",
              "      <td>enough</td>\n",
              "      <td>machine dbh</td>\n",
              "      <td>borehole</td>\n",
              "      <td>groundwater</td>\n",
              "      <td>hand pump</td>\n",
              "      <td>hand pump</td>\n",
              "      <td>functional</td>\n",
              "    </tr>\n",
              "    <tr>\n",
              "      <th>17415</th>\n",
              "      <td>42561</td>\n",
              "      <td>0.0</td>\n",
              "      <td>2012-10-26</td>\n",
              "      <td>Rwssp</td>\n",
              "      <td>0</td>\n",
              "      <td>DWE</td>\n",
              "      <td>32.357735</td>\n",
              "      <td>-3.901010</td>\n",
              "      <td>Imalanota A</td>\n",
              "      <td>0</td>\n",
              "      <td>Lake Tanganyika</td>\n",
              "      <td>Imalangi</td>\n",
              "      <td>Shinyanga</td>\n",
              "      <td>17</td>\n",
              "      <td>3</td>\n",
              "      <td>Kahama</td>\n",
              "      <td>Mpunze</td>\n",
              "      <td>0</td>\n",
              "      <td>True</td>\n",
              "      <td>GeoData Consultants Ltd</td>\n",
              "      <td>NaN</td>\n",
              "      <td>NaN</td>\n",
              "      <td>True</td>\n",
              "      <td>0</td>\n",
              "      <td>other</td>\n",
              "      <td>other</td>\n",
              "      <td>other</td>\n",
              "      <td>wug</td>\n",
              "      <td>user-group</td>\n",
              "      <td>unknown</td>\n",
              "      <td>unknown</td>\n",
              "      <td>milky</td>\n",
              "      <td>milky</td>\n",
              "      <td>enough</td>\n",
              "      <td>enough</td>\n",
              "      <td>shallow well</td>\n",
              "      <td>shallow well</td>\n",
              "      <td>groundwater</td>\n",
              "      <td>other</td>\n",
              "      <td>other</td>\n",
              "      <td>functional</td>\n",
              "    </tr>\n",
              "    <tr>\n",
              "      <th>11103</th>\n",
              "      <td>26287</td>\n",
              "      <td>0.0</td>\n",
              "      <td>2013-02-14</td>\n",
              "      <td>NaN</td>\n",
              "      <td>1425</td>\n",
              "      <td>NaN</td>\n",
              "      <td>34.702588</td>\n",
              "      <td>-5.198856</td>\n",
              "      <td>Bwawani</td>\n",
              "      <td>0</td>\n",
              "      <td>Internal</td>\n",
              "      <td>Mnyankinda</td>\n",
              "      <td>Singida</td>\n",
              "      <td>13</td>\n",
              "      <td>2</td>\n",
              "      <td>Singida Rural</td>\n",
              "      <td>Ikungu</td>\n",
              "      <td>1</td>\n",
              "      <td>True</td>\n",
              "      <td>GeoData Consultants Ltd</td>\n",
              "      <td>VWC</td>\n",
              "      <td>NaN</td>\n",
              "      <td>NaN</td>\n",
              "      <td>2000</td>\n",
              "      <td>gravity</td>\n",
              "      <td>gravity</td>\n",
              "      <td>gravity</td>\n",
              "      <td>vwc</td>\n",
              "      <td>user-group</td>\n",
              "      <td>unknown</td>\n",
              "      <td>unknown</td>\n",
              "      <td>unknown</td>\n",
              "      <td>unknown</td>\n",
              "      <td>dry</td>\n",
              "      <td>dry</td>\n",
              "      <td>dam</td>\n",
              "      <td>dam</td>\n",
              "      <td>surface</td>\n",
              "      <td>communal standpipe</td>\n",
              "      <td>communal standpipe</td>\n",
              "      <td>non functional</td>\n",
              "    </tr>\n",
              "    <tr>\n",
              "      <th>18409</th>\n",
              "      <td>61331</td>\n",
              "      <td>3000.0</td>\n",
              "      <td>2011-03-27</td>\n",
              "      <td>Wsdp</td>\n",
              "      <td>412</td>\n",
              "      <td>DWE</td>\n",
              "      <td>38.359131</td>\n",
              "      <td>-4.975955</td>\n",
              "      <td>Mworongo</td>\n",
              "      <td>0</td>\n",
              "      <td>Pangani</td>\n",
              "      <td>Kwamkole</td>\n",
              "      <td>Tanga</td>\n",
              "      <td>4</td>\n",
              "      <td>2</td>\n",
              "      <td>Korogwe</td>\n",
              "      <td>Chekelei</td>\n",
              "      <td>500</td>\n",
              "      <td>True</td>\n",
              "      <td>GeoData Consultants Ltd</td>\n",
              "      <td>VWC</td>\n",
              "      <td>NaN</td>\n",
              "      <td>False</td>\n",
              "      <td>2008</td>\n",
              "      <td>afridev</td>\n",
              "      <td>afridev</td>\n",
              "      <td>handpump</td>\n",
              "      <td>vwc</td>\n",
              "      <td>user-group</td>\n",
              "      <td>pay annually</td>\n",
              "      <td>annually</td>\n",
              "      <td>salty</td>\n",
              "      <td>salty</td>\n",
              "      <td>seasonal</td>\n",
              "      <td>seasonal</td>\n",
              "      <td>shallow well</td>\n",
              "      <td>shallow well</td>\n",
              "      <td>groundwater</td>\n",
              "      <td>hand pump</td>\n",
              "      <td>hand pump</td>\n",
              "      <td>functional</td>\n",
              "    </tr>\n",
              "  </tbody>\n",
              "</table>\n",
              "</div>"
            ],
            "text/plain": [
              "          id  amount_tsh  ... waterpoint_type_group    status_group\n",
              "36369  12516         0.0  ...             hand pump      functional\n",
              "12756  59778         0.0  ...             hand pump      functional\n",
              "17415  42561         0.0  ...                 other      functional\n",
              "11103  26287         0.0  ...    communal standpipe  non functional\n",
              "18409  61331      3000.0  ...             hand pump      functional\n",
              "\n",
              "[5 rows x 41 columns]"
            ]
          },
          "metadata": {
            "tags": []
          },
          "execution_count": 133
        }
      ]
    },
    {
      "cell_type": "code",
      "metadata": {
        "id": "n0zBUsNPmc_W",
        "colab_type": "code",
        "colab": {
          "base_uri": "https://localhost:8080/",
          "height": 90
        },
        "outputId": "85630cfa-0c06-4564-a172-290ed813518c"
      },
      "source": [
        "# classificatoin baseline. \n",
        "\n",
        "train['status_group'].value_counts(normalize=True)"
      ],
      "execution_count": 134,
      "outputs": [
        {
          "output_type": "execute_result",
          "data": {
            "text/plain": [
              "functional                 0.543098\n",
              "non functional             0.384259\n",
              "functional needs repair    0.072643\n",
              "Name: status_group, dtype: float64"
            ]
          },
          "metadata": {
            "tags": []
          },
          "execution_count": 134
        }
      ]
    },
    {
      "cell_type": "code",
      "metadata": {
        "id": "xtXlXXLRnGHD",
        "colab_type": "code",
        "colab": {
          "base_uri": "https://localhost:8080/",
          "height": 55
        },
        "outputId": "abcfe23b-d64d-457f-be4d-87e21b8345b3"
      },
      "source": [
        "# getting a general profile of the training dataset. And it is not working for some reason\n",
        "'''\n",
        "import pandas_profiling\n",
        "\n",
        "profile_report = train.profile_report(\n",
        "    check_correlation_pearson=False,\n",
        "    correlations={\n",
        "        'pearson': False,\n",
        "        'spearman': False,\n",
        "        'kendall': False,\n",
        "        'phi_k': False,\n",
        "        'cramers': False,\n",
        "        'recoded': False,\n",
        "    },\n",
        "    plot={'histogram': {'bayesian_blocks_bins': False}},\n",
        ")\n",
        "\n",
        "profile_report\n",
        "'''"
      ],
      "execution_count": 135,
      "outputs": [
        {
          "output_type": "execute_result",
          "data": {
            "text/plain": [
              "\"\\nimport pandas_profiling\\n\\nprofile_report = train.profile_report(\\n    check_correlation_pearson=False,\\n    correlations={\\n        'pearson': False,\\n        'spearman': False,\\n        'kendall': False,\\n        'phi_k': False,\\n        'cramers': False,\\n        'recoded': False,\\n    },\\n    plot={'histogram': {'bayesian_blocks_bins': False}},\\n)\\n\\nprofile_report\\n\""
            ]
          },
          "metadata": {
            "tags": []
          },
          "execution_count": 135
        }
      ]
    },
    {
      "cell_type": "code",
      "metadata": {
        "id": "mjCgIVtKqWeZ",
        "colab_type": "code",
        "colab": {}
      },
      "source": [
        "# defining the target and features\n",
        "target = 'status_group'\n",
        "train_features = train.drop(columns=[target, 'id'])\n",
        "\n",
        "numeric = train_features.select_dtypes(include='number').columns.tolist()\n",
        "cardinality = train_features.select_dtypes(exclude='number').nunique()\n",
        "categorical_features = cardinality[cardinality <= 50].index.tolist()\n",
        "\n",
        "features = numeric + categorical_features\n",
        "\n",
        "x_train = train[features]\n",
        "y_train = train[target]\n",
        "x_val = val[features]\n",
        "y_val = val[target]\n",
        "x_test = test[features]"
      ],
      "execution_count": 0,
      "outputs": []
    },
    {
      "cell_type": "code",
      "metadata": {
        "id": "ptX9b04XsXaU",
        "colab_type": "code",
        "colab": {
          "base_uri": "https://localhost:8080/",
          "height": 35
        },
        "outputId": "3c63ed55-477a-4d4f-810a-668c4e4d1fcf"
      },
      "source": [
        "# Select features. Use a scikit-learn pipeline to encode categoricals, \n",
        "# impute missing values, and fit a decision tree classifier.\n",
        "\n",
        "# importing the necessary libraries\n",
        "from sklearn.pipeline import make_pipeline\n",
        "import category_encoders as ce\n",
        "from sklearn.tree import DecisionTreeClassifier\n",
        "from sklearn.impute import SimpleImputer\n",
        "import matplotlib.pyplot as plt\n",
        "\n",
        "# creating a pipeline for one hot encoding, imputing, and decision tree classifier\n",
        "pipeline = make_pipeline(ce.OneHotEncoder(use_cat_names=True),\n",
        "                         SimpleImputer(strategy='mean'),\n",
        "                         DecisionTreeClassifier(random_state=42))\n",
        "\n",
        "# fitting the data\n",
        "pipeline.fit(x_train, y_train)\n",
        "\n",
        "# validation score\n",
        "validation_accuracy = pipeline.score(x_val, y_val)\n",
        "print(f'validation accuracy: {validation_accuracy}')"
      ],
      "execution_count": 137,
      "outputs": [
        {
          "output_type": "stream",
          "text": [
            "validation accuracy: 0.7166035353535354\n"
          ],
          "name": "stdout"
        }
      ]
    },
    {
      "cell_type": "code",
      "metadata": {
        "id": "vRdpiqSiviDu",
        "colab_type": "code",
        "colab": {}
      },
      "source": [
        "# See what the decision tree looks like. \n",
        "\n",
        "import graphviz\n",
        "from sklearn.tree import export_graphviz\n",
        "\n",
        "model = pipeline.named_steps['decisiontreeclassifier']\n",
        "encoder = pipeline.named_steps['onehotencoder']\n",
        "encoded_columns = encoder.transform(x_val).columns\n",
        "\n",
        "dot_data = export_graphviz(model, \n",
        "                           out_file=None, \n",
        "                           max_depth=3, \n",
        "                           feature_names=encoded_columns,\n",
        "                           class_names=model.classes_, \n",
        "                           impurity=False, \n",
        "                           filled=True, \n",
        "                           proportion=True, \n",
        "                           rounded=True)   \n",
        "display(graphviz.Source(dot_data))"
      ],
      "execution_count": 0,
      "outputs": []
    },
    {
      "cell_type": "code",
      "metadata": {
        "id": "yCN7ZmUsxtVi",
        "colab_type": "code",
        "colab": {}
      },
      "source": [
        "# get and plot feature importances.\n",
        "%matplotlib inline\n",
        "\n",
        "model= pipeline.named_steps['decisiontreeclassifier']\n",
        "encoder = pipeline.named_steps['onehotencoder']\n",
        "columns = encoder.transform(x_val).columns\n",
        "importances = pd.Series(model.feature_importances_, columns)\n",
        "#plt.autoscale(enable=True)\n",
        "plt.figure(figsize=(10,30))\n",
        "importances.sort_values().plot.barh(color='red');"
      ],
      "execution_count": 0,
      "outputs": []
    },
    {
      "cell_type": "code",
      "metadata": {
        "id": "vO2bJ_KW3Ldf",
        "colab_type": "code",
        "colab": {
          "base_uri": "https://localhost:8080/",
          "height": 35
        },
        "outputId": "f4f32bb7-1637-4dbb-9118-8f5c073eda39"
      },
      "source": [
        "# tunning hyperparameters to get better prediction. \n",
        "\n",
        "# Testing different depth of trees\n",
        "pipeline = make_pipeline(ce.OneHotEncoder(use_cat_names=True),\n",
        "                         SimpleImputer(strategy='mean'),\n",
        "                         DecisionTreeClassifier(max_depth = 4, random_state=42))\n",
        "\n",
        "# fitting the data\n",
        "pipeline.fit(x_train, y_train)\n",
        "\n",
        "# validation score\n",
        "validation_accuracy = pipeline.score(x_val, y_val)\n",
        "print(f'validation accuracy: {validation_accuracy}')"
      ],
      "execution_count": 140,
      "outputs": [
        {
          "output_type": "stream",
          "text": [
            "validation accuracy: 0.7041666666666667\n"
          ],
          "name": "stdout"
        }
      ]
    },
    {
      "cell_type": "code",
      "metadata": {
        "colab_type": "code",
        "id": "Nb-OiaTA5EtO",
        "colab": {
          "base_uri": "https://localhost:8080/",
          "height": 35
        },
        "outputId": "36abf8e0-d885-4ab4-89fd-bd68dc9ef81a"
      },
      "source": [
        "# tunning hyperparameters to get better prediction. \n",
        "\n",
        "# Testing different maximum leaf nodes\n",
        "pipeline = make_pipeline(ce.OneHotEncoder(use_cat_names=True),\n",
        "                         SimpleImputer(strategy='mean'),\n",
        "                         DecisionTreeClassifier(max_leaf_nodes = 3, random_state=42))\n",
        "\n",
        "# fitting the data\n",
        "pipeline.fit(x_train, y_train)\n",
        "\n",
        "# validation score\n",
        "validation_accuracy = pipeline.score(x_val, y_val)\n",
        "print(f'validation accuracy: {validation_accuracy}')"
      ],
      "execution_count": 141,
      "outputs": [
        {
          "output_type": "stream",
          "text": [
            "validation accuracy: 0.6935395622895623\n"
          ],
          "name": "stdout"
        }
      ]
    },
    {
      "cell_type": "code",
      "metadata": {
        "colab_type": "code",
        "outputId": "e49576a5-890f-4325-82b2-24295b0570a9",
        "id": "qDR4Uqqu5nGl",
        "colab": {
          "base_uri": "https://localhost:8080/",
          "height": 35
        }
      },
      "source": [
        "# tunning hyperparameters to get better prediction. \n",
        "\n",
        "# combining different parameters to see if there is a difference\n",
        "pipeline = make_pipeline(ce.OneHotEncoder(use_cat_names=True),\n",
        "                         SimpleImputer(strategy='mean'),\n",
        "                         DecisionTreeClassifier(min_samples_leaf = 18,\n",
        "                                                max_depth = 20, \n",
        "                                                max_leaf_nodes = 20, random_state=42))\n",
        "\n",
        "# fitting the data\n",
        "pipeline.fit(x_train, y_train)\n",
        "\n",
        "# validation score\n",
        "validation_accuracy = pipeline.score(x_val, y_val)\n",
        "print(f'validation accuracy: {validation_accuracy}')"
      ],
      "execution_count": 142,
      "outputs": [
        {
          "output_type": "stream",
          "text": [
            "validation accuracy: 0.7106902356902357\n"
          ],
          "name": "stdout"
        }
      ]
    },
    {
      "cell_type": "code",
      "metadata": {
        "colab_type": "code",
        "id": "ew837G6L3pSd",
        "colab": {
          "base_uri": "https://localhost:8080/",
          "height": 35
        },
        "outputId": "957ef94c-f82d-4646-a7cb-50d6d8e9709d"
      },
      "source": [
        "# tunning hyperparameters to get better prediction. \n",
        "\n",
        "# Testing different number of leaves\n",
        "best_model = make_pipeline(ce.OneHotEncoder(use_cat_names=True),\n",
        "                         SimpleImputer(strategy='mean'),\n",
        "                         DecisionTreeClassifier(min_samples_leaf = 9, random_state=42))\n",
        "\n",
        "# fitting the data\n",
        "best_model.fit(x_train, y_train)\n",
        "\n",
        "# validation score\n",
        "validation_accuracy = best_model.score(x_val, y_val)\n",
        "print(f'validation accuracy: {validation_accuracy}')"
      ],
      "execution_count": 155,
      "outputs": [
        {
          "output_type": "stream",
          "text": [
            "validation accuracy: 0.73621632996633\n"
          ],
          "name": "stdout"
        }
      ]
    },
    {
      "cell_type": "code",
      "metadata": {
        "id": "MzXQ9zOn62zO",
        "colab_type": "code",
        "colab": {}
      },
      "source": [
        "y_pred = best_model.predict(x_test)\n",
        "\n",
        "\n",
        "# Makes a dataframe with two columns, id and status_group, \n",
        "# and writes to a csv file, without the index\n",
        "\n",
        "submission = sample_submission.copy()\n",
        "submission['status_group'] = y_pred\n",
        "submission.to_csv('Evidence.N DS9 Kaggle Challenge 1.csv', index=False)"
      ],
      "execution_count": 0,
      "outputs": []
    },
    {
      "cell_type": "code",
      "metadata": {
        "id": "D2TUvjgW-uIv",
        "colab_type": "code",
        "colab": {}
      },
      "source": [
        "from google.colab import files\n",
        "files.download('Evidence.N DS9 Kaggle Challenge 1.csv')"
      ],
      "execution_count": 0,
      "outputs": []
    }
  ]
}